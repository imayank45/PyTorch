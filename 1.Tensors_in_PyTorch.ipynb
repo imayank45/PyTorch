{
  "nbformat": 4,
  "nbformat_minor": 0,
  "metadata": {
    "colab": {
      "provenance": [],
      "gpuType": "T4"
    },
    "kernelspec": {
      "name": "python3",
      "display_name": "Python 3"
    },
    "language_info": {
      "name": "python"
    },
    "accelerator": "GPU"
  },
  "cells": [
    {
      "cell_type": "code",
      "execution_count": 2,
      "metadata": {
        "colab": {
          "base_uri": "https://localhost:8080/"
        },
        "id": "gmMniJlAKlsm",
        "outputId": "ff74ca4d-dfe3-468b-98c3-ea53f6b2d9f1"
      },
      "outputs": [
        {
          "output_type": "stream",
          "name": "stdout",
          "text": [
            "2.5.1+cu121\n"
          ]
        }
      ],
      "source": [
        "import torch\n",
        "print(torch.__version__)\n"
      ]
    },
    {
      "cell_type": "code",
      "source": [
        "if torch.cuda.is_available():\n",
        "  print('GPU is available')\n",
        "  print(f\"Using GPU: {torch.cuda.get_device_name(0)}\")\n",
        "else:\n",
        "  print('GPU is not available')"
      ],
      "metadata": {
        "colab": {
          "base_uri": "https://localhost:8080/"
        },
        "id": "GxTDp83UKwR-",
        "outputId": "77dca709-9ee9-4cc5-9b6a-09eed7016234"
      },
      "execution_count": 3,
      "outputs": [
        {
          "output_type": "stream",
          "name": "stdout",
          "text": [
            "GPU is available\n",
            "Using GPU: Tesla T4\n"
          ]
        }
      ]
    },
    {
      "cell_type": "markdown",
      "source": [
        "# Creating a Tensor"
      ],
      "metadata": {
        "id": "zBYgNPgzLwSz"
      }
    },
    {
      "cell_type": "code",
      "source": [
        "# using empty\n",
        "a = torch.empty(2,3)\n",
        "print(a)"
      ],
      "metadata": {
        "colab": {
          "base_uri": "https://localhost:8080/"
        },
        "id": "fr4btBb8LRyO",
        "outputId": "1ef29f7c-ada2-49fc-95e5-abad0ec96577"
      },
      "execution_count": 4,
      "outputs": [
        {
          "output_type": "stream",
          "name": "stdout",
          "text": [
            "tensor([[-1.6003e-33,  3.3393e-41, -1.6007e-33],\n",
            "        [ 3.3393e-41,  2.8026e-45,  0.0000e+00]])\n"
          ]
        }
      ]
    },
    {
      "cell_type": "code",
      "source": [
        "# check type\n",
        "type(a)"
      ],
      "metadata": {
        "colab": {
          "base_uri": "https://localhost:8080/"
        },
        "id": "08hZ0VUoL84_",
        "outputId": "16a3c4e8-3653-44c1-f040-7c7c2a48d300"
      },
      "execution_count": 5,
      "outputs": [
        {
          "output_type": "execute_result",
          "data": {
            "text/plain": [
              "torch.Tensor"
            ]
          },
          "metadata": {},
          "execution_count": 5
        }
      ]
    },
    {
      "cell_type": "code",
      "source": [
        "# using zeros\n",
        "torch.zeros(2,3)"
      ],
      "metadata": {
        "colab": {
          "base_uri": "https://localhost:8080/"
        },
        "id": "M_J04KhBMHVj",
        "outputId": "0c6c2564-f5e9-4c37-fb13-3e081c20172f"
      },
      "execution_count": 6,
      "outputs": [
        {
          "output_type": "execute_result",
          "data": {
            "text/plain": [
              "tensor([[0., 0., 0.],\n",
              "        [0., 0., 0.]])"
            ]
          },
          "metadata": {},
          "execution_count": 6
        }
      ]
    },
    {
      "cell_type": "code",
      "source": [
        "# using ones\n",
        "torch.ones(2,3)"
      ],
      "metadata": {
        "colab": {
          "base_uri": "https://localhost:8080/"
        },
        "id": "WRggRoPsMQn9",
        "outputId": "6ef090ff-7de5-48cb-ca67-c9a8384a28e2"
      },
      "execution_count": 7,
      "outputs": [
        {
          "output_type": "execute_result",
          "data": {
            "text/plain": [
              "tensor([[1., 1., 1.],\n",
              "        [1., 1., 1.]])"
            ]
          },
          "metadata": {},
          "execution_count": 7
        }
      ]
    },
    {
      "cell_type": "code",
      "source": [
        "# using rand\n",
        "torch.rand(2,3)"
      ],
      "metadata": {
        "colab": {
          "base_uri": "https://localhost:8080/"
        },
        "id": "LGGqX0OGMV4O",
        "outputId": "e458f0c2-7b26-4811-9246-052f2526a3ef"
      },
      "execution_count": 8,
      "outputs": [
        {
          "output_type": "execute_result",
          "data": {
            "text/plain": [
              "tensor([[0.7123, 0.1324, 0.8664],\n",
              "        [0.2864, 0.5954, 0.8048]])"
            ]
          },
          "metadata": {},
          "execution_count": 8
        }
      ]
    },
    {
      "cell_type": "code",
      "source": [
        "# use of seed\n",
        "torch.manual_seed(100)\n",
        "torch.rand(2,3)"
      ],
      "metadata": {
        "colab": {
          "base_uri": "https://localhost:8080/"
        },
        "id": "aaCRvFoxMcEB",
        "outputId": "ee09c27e-581e-4d20-bf03-d91266656042"
      },
      "execution_count": 9,
      "outputs": [
        {
          "output_type": "execute_result",
          "data": {
            "text/plain": [
              "tensor([[0.1117, 0.8158, 0.2626],\n",
              "        [0.4839, 0.6765, 0.7539]])"
            ]
          },
          "metadata": {},
          "execution_count": 9
        }
      ]
    },
    {
      "cell_type": "code",
      "source": [
        "torch.manual_seed(100)\n",
        "torch.rand(2,3)"
      ],
      "metadata": {
        "colab": {
          "base_uri": "https://localhost:8080/"
        },
        "id": "LmHREY6TM4Qr",
        "outputId": "33ef08b8-f28a-4cdb-bf6f-a22844d2a6cf"
      },
      "execution_count": 10,
      "outputs": [
        {
          "output_type": "execute_result",
          "data": {
            "text/plain": [
              "tensor([[0.1117, 0.8158, 0.2626],\n",
              "        [0.4839, 0.6765, 0.7539]])"
            ]
          },
          "metadata": {},
          "execution_count": 10
        }
      ]
    },
    {
      "cell_type": "code",
      "source": [
        "# using tensor\n",
        "torch.tensor([[1,2,3],[4,5,6]])"
      ],
      "metadata": {
        "colab": {
          "base_uri": "https://localhost:8080/"
        },
        "id": "LhYO5TtdM7oH",
        "outputId": "c00fa3a1-3549-40ec-ce26-57958e710423"
      },
      "execution_count": 11,
      "outputs": [
        {
          "output_type": "execute_result",
          "data": {
            "text/plain": [
              "tensor([[1, 2, 3],\n",
              "        [4, 5, 6]])"
            ]
          },
          "metadata": {},
          "execution_count": 11
        }
      ]
    },
    {
      "cell_type": "code",
      "source": [
        "# other ways\n",
        "\n",
        "# using arrange\n",
        "print('Using arrange ->', torch.arange(0,10,2))\n",
        "\n",
        "# using linspace\n",
        "print('Using linspace ->',torch.linspace(0,10,10))\n",
        "\n",
        "# using eye\n",
        "print('Using eye ->', torch.eye(10))\n",
        "\n",
        "# using full\n",
        "print('Using full ->', torch.full((2,3), 5))"
      ],
      "metadata": {
        "colab": {
          "base_uri": "https://localhost:8080/"
        },
        "id": "XQQYtxpcNFcY",
        "outputId": "fad350e2-36c2-4ada-84cc-7477e11528b6"
      },
      "execution_count": 12,
      "outputs": [
        {
          "output_type": "stream",
          "name": "stdout",
          "text": [
            "Using arrange -> tensor([0, 2, 4, 6, 8])\n",
            "Using linspace -> tensor([ 0.0000,  1.1111,  2.2222,  3.3333,  4.4444,  5.5556,  6.6667,  7.7778,\n",
            "         8.8889, 10.0000])\n",
            "Using eye -> tensor([[1., 0., 0., 0., 0., 0., 0., 0., 0., 0.],\n",
            "        [0., 1., 0., 0., 0., 0., 0., 0., 0., 0.],\n",
            "        [0., 0., 1., 0., 0., 0., 0., 0., 0., 0.],\n",
            "        [0., 0., 0., 1., 0., 0., 0., 0., 0., 0.],\n",
            "        [0., 0., 0., 0., 1., 0., 0., 0., 0., 0.],\n",
            "        [0., 0., 0., 0., 0., 1., 0., 0., 0., 0.],\n",
            "        [0., 0., 0., 0., 0., 0., 1., 0., 0., 0.],\n",
            "        [0., 0., 0., 0., 0., 0., 0., 1., 0., 0.],\n",
            "        [0., 0., 0., 0., 0., 0., 0., 0., 1., 0.],\n",
            "        [0., 0., 0., 0., 0., 0., 0., 0., 0., 1.]])\n",
            "Using full -> tensor([[5, 5, 5],\n",
            "        [5, 5, 5]])\n"
          ]
        }
      ]
    },
    {
      "cell_type": "markdown",
      "source": [
        "# Tensor Shapes"
      ],
      "metadata": {
        "id": "UEP-gm6aOIf5"
      }
    },
    {
      "cell_type": "code",
      "source": [
        "x = torch.tensor([[1,2,3],[4,5,6]])\n",
        "x"
      ],
      "metadata": {
        "colab": {
          "base_uri": "https://localhost:8080/"
        },
        "id": "ROaddRVzNOab",
        "outputId": "18664f57-ad75-4043-8809-c1250909e2da"
      },
      "execution_count": 13,
      "outputs": [
        {
          "output_type": "execute_result",
          "data": {
            "text/plain": [
              "tensor([[1, 2, 3],\n",
              "        [4, 5, 6]])"
            ]
          },
          "metadata": {},
          "execution_count": 13
        }
      ]
    },
    {
      "cell_type": "code",
      "source": [
        "x.shape"
      ],
      "metadata": {
        "colab": {
          "base_uri": "https://localhost:8080/"
        },
        "id": "27qSQx67OTWG",
        "outputId": "ee06ef72-ebb8-433a-c757-6e34b2fa17e4"
      },
      "execution_count": 14,
      "outputs": [
        {
          "output_type": "execute_result",
          "data": {
            "text/plain": [
              "torch.Size([2, 3])"
            ]
          },
          "metadata": {},
          "execution_count": 14
        }
      ]
    },
    {
      "cell_type": "code",
      "source": [
        "torch.empty_like(x)"
      ],
      "metadata": {
        "colab": {
          "base_uri": "https://localhost:8080/"
        },
        "id": "hlPkLSRiOVAl",
        "outputId": "6110b0ec-ac72-443f-bc94-a724bec5d374"
      },
      "execution_count": 15,
      "outputs": [
        {
          "output_type": "execute_result",
          "data": {
            "text/plain": [
              "tensor([[    135535851347344,     135535851347344,                   0],\n",
              "        [                  0,                   0, 7310593858020254331]])"
            ]
          },
          "metadata": {},
          "execution_count": 15
        }
      ]
    },
    {
      "cell_type": "code",
      "source": [
        "torch.ones_like(x)"
      ],
      "metadata": {
        "colab": {
          "base_uri": "https://localhost:8080/"
        },
        "id": "EUjpFZH1OgwD",
        "outputId": "a20c9456-5406-4ae9-ee10-f4799b800718"
      },
      "execution_count": 16,
      "outputs": [
        {
          "output_type": "execute_result",
          "data": {
            "text/plain": [
              "tensor([[1, 1, 1],\n",
              "        [1, 1, 1]])"
            ]
          },
          "metadata": {},
          "execution_count": 16
        }
      ]
    },
    {
      "cell_type": "code",
      "source": [
        "torch.zeros_like(x)"
      ],
      "metadata": {
        "colab": {
          "base_uri": "https://localhost:8080/"
        },
        "id": "JYdHXPXOOkaq",
        "outputId": "5ece7db9-4068-4883-9eef-a49d2dc6961a"
      },
      "execution_count": 17,
      "outputs": [
        {
          "output_type": "execute_result",
          "data": {
            "text/plain": [
              "tensor([[0, 0, 0],\n",
              "        [0, 0, 0]])"
            ]
          },
          "metadata": {},
          "execution_count": 17
        }
      ]
    },
    {
      "cell_type": "markdown",
      "source": [
        "# Tensor Data Types"
      ],
      "metadata": {
        "id": "jv8rBKMxO28W"
      }
    },
    {
      "cell_type": "code",
      "source": [
        "# find data type\n",
        "x.dtype"
      ],
      "metadata": {
        "colab": {
          "base_uri": "https://localhost:8080/"
        },
        "id": "jl9zC5AcOmL3",
        "outputId": "f77975d9-9d91-417a-d801-2fe664e05674"
      },
      "execution_count": 18,
      "outputs": [
        {
          "output_type": "execute_result",
          "data": {
            "text/plain": [
              "torch.int64"
            ]
          },
          "metadata": {},
          "execution_count": 18
        }
      ]
    },
    {
      "cell_type": "code",
      "source": [
        "# assign data type\n",
        "torch.tensor([1.0,2.0,3.0], dtype=torch.float64)"
      ],
      "metadata": {
        "colab": {
          "base_uri": "https://localhost:8080/"
        },
        "id": "PkCYwLOLO6wr",
        "outputId": "2c98b60f-1aa7-4286-de7e-a69a4241ae88"
      },
      "execution_count": 19,
      "outputs": [
        {
          "output_type": "execute_result",
          "data": {
            "text/plain": [
              "tensor([1., 2., 3.], dtype=torch.float64)"
            ]
          },
          "metadata": {},
          "execution_count": 19
        }
      ]
    },
    {
      "cell_type": "code",
      "source": [
        "# assign data type\n",
        "torch.tensor([1.0,2.0,3.0], dtype=torch.int32)"
      ],
      "metadata": {
        "colab": {
          "base_uri": "https://localhost:8080/"
        },
        "id": "B1L1TkhvPImb",
        "outputId": "88734a4c-208d-48c8-9301-8a4619dfd36c"
      },
      "execution_count": 20,
      "outputs": [
        {
          "output_type": "execute_result",
          "data": {
            "text/plain": [
              "tensor([1, 2, 3], dtype=torch.int32)"
            ]
          },
          "metadata": {},
          "execution_count": 20
        }
      ]
    },
    {
      "cell_type": "code",
      "source": [
        "# using to()\n",
        "x.to(torch.float64)"
      ],
      "metadata": {
        "colab": {
          "base_uri": "https://localhost:8080/"
        },
        "id": "ZGzJCHtUPN-k",
        "outputId": "e3cdd550-8d31-4cd4-fc89-3239613ec1d2"
      },
      "execution_count": 21,
      "outputs": [
        {
          "output_type": "execute_result",
          "data": {
            "text/plain": [
              "tensor([[1., 2., 3.],\n",
              "        [4., 5., 6.]], dtype=torch.float64)"
            ]
          },
          "metadata": {},
          "execution_count": 21
        }
      ]
    },
    {
      "cell_type": "markdown",
      "source": [
        "# Mathematical Operations"
      ],
      "metadata": {
        "id": "1DdNtvzZV4J1"
      }
    },
    {
      "cell_type": "markdown",
      "source": [
        "## 1. Scaler Operations"
      ],
      "metadata": {
        "id": "pGa5sqItV8Po"
      }
    },
    {
      "cell_type": "code",
      "source": [
        "x = torch.rand(2,2)\n",
        "x"
      ],
      "metadata": {
        "colab": {
          "base_uri": "https://localhost:8080/"
        },
        "id": "nszv9IffPqeX",
        "outputId": "fa171276-985e-4532-b30d-250614365b46"
      },
      "execution_count": 22,
      "outputs": [
        {
          "output_type": "execute_result",
          "data": {
            "text/plain": [
              "tensor([[0.2627, 0.0428],\n",
              "        [0.2080, 0.1180]])"
            ]
          },
          "metadata": {},
          "execution_count": 22
        }
      ]
    },
    {
      "cell_type": "code",
      "source": [
        "# addition\n",
        "x + 2\n",
        "\n",
        "# substraction\n",
        "x - 2\n",
        "\n",
        "# multiplication\n",
        "x * 3\n",
        "\n",
        "# division\n",
        "x / 3\n",
        "\n",
        "# int division\n",
        "(x * 100) // 3\n",
        "\n",
        "# mod\n",
        "((x * 100) // 3) % 2\n",
        "\n",
        "# power\n",
        "x**2"
      ],
      "metadata": {
        "colab": {
          "base_uri": "https://localhost:8080/"
        },
        "id": "Jgr0Ex79WGRr",
        "outputId": "d493a7c3-2a85-4323-df88-d853d0c5b082"
      },
      "execution_count": 23,
      "outputs": [
        {
          "output_type": "execute_result",
          "data": {
            "text/plain": [
              "tensor([[0.0690, 0.0018],\n",
              "        [0.0433, 0.0139]])"
            ]
          },
          "metadata": {},
          "execution_count": 23
        }
      ]
    },
    {
      "cell_type": "markdown",
      "source": [
        "## 2. Element wise operation"
      ],
      "metadata": {
        "id": "PaEoPdQUW75j"
      }
    },
    {
      "cell_type": "code",
      "source": [
        "a = torch.rand(2,3)\n",
        "b = torch.rand(2,3)\n",
        "\n",
        "print(a)\n",
        "print(b)"
      ],
      "metadata": {
        "colab": {
          "base_uri": "https://localhost:8080/"
        },
        "id": "JuYFzGfuWpYj",
        "outputId": "927afbfd-65fa-4b5d-f00b-ca7f2d907d3e"
      },
      "execution_count": 24,
      "outputs": [
        {
          "output_type": "stream",
          "name": "stdout",
          "text": [
            "tensor([[0.1217, 0.7356, 0.7118],\n",
            "        [0.7876, 0.4183, 0.9014]])\n",
            "tensor([[0.9969, 0.7565, 0.2239],\n",
            "        [0.3023, 0.1784, 0.8238]])\n"
          ]
        }
      ]
    },
    {
      "cell_type": "code",
      "source": [
        "# additon\n",
        "a + b\n",
        "\n",
        "# substraction\n",
        "a - b\n",
        "\n",
        "# mulitply\n",
        "a * b\n",
        "\n",
        "# division\n",
        "a / b\n",
        "\n",
        "# power\n",
        "a ** b\n",
        "\n",
        "# mod\n",
        "a % b"
      ],
      "metadata": {
        "colab": {
          "base_uri": "https://localhost:8080/"
        },
        "id": "v7OT_7QEXIGC",
        "outputId": "d81d76c7-2b44-45a4-ea40-fee6899516a1"
      },
      "execution_count": 25,
      "outputs": [
        {
          "output_type": "execute_result",
          "data": {
            "text/plain": [
              "tensor([[0.1217, 0.7356, 0.0401],\n",
              "        [0.1829, 0.0615, 0.0776]])"
            ]
          },
          "metadata": {},
          "execution_count": 25
        }
      ]
    },
    {
      "cell_type": "code",
      "source": [
        "# abs\n",
        "c = torch.tensor([-1.3,2.54,-3.2,4.92])\n",
        "torch.abs(c)"
      ],
      "metadata": {
        "colab": {
          "base_uri": "https://localhost:8080/"
        },
        "id": "4Ernu_VGZqGb",
        "outputId": "9198adff-a1d0-4bab-9963-e14ab16b0820"
      },
      "execution_count": 26,
      "outputs": [
        {
          "output_type": "execute_result",
          "data": {
            "text/plain": [
              "tensor([1.3000, 2.5400, 3.2000, 4.9200])"
            ]
          },
          "metadata": {},
          "execution_count": 26
        }
      ]
    },
    {
      "cell_type": "code",
      "source": [
        "# negative\n",
        "torch.neg(c)"
      ],
      "metadata": {
        "colab": {
          "base_uri": "https://localhost:8080/"
        },
        "id": "gxPa12V5Z4AJ",
        "outputId": "bb08f22f-686c-4782-fb2c-55e2a28dc8ba"
      },
      "execution_count": 27,
      "outputs": [
        {
          "output_type": "execute_result",
          "data": {
            "text/plain": [
              "tensor([ 1.3000, -2.5400,  3.2000, -4.9200])"
            ]
          },
          "metadata": {},
          "execution_count": 27
        }
      ]
    },
    {
      "cell_type": "code",
      "source": [
        "# round\n",
        "torch.round(c)"
      ],
      "metadata": {
        "colab": {
          "base_uri": "https://localhost:8080/"
        },
        "id": "ePt91GsIZ8eU",
        "outputId": "3b3e3e35-b7cf-4fc4-b55a-b99e0fd6714f"
      },
      "execution_count": 28,
      "outputs": [
        {
          "output_type": "execute_result",
          "data": {
            "text/plain": [
              "tensor([-1.,  3., -3.,  5.])"
            ]
          },
          "metadata": {},
          "execution_count": 28
        }
      ]
    },
    {
      "cell_type": "code",
      "source": [
        "# ceil\n",
        "torch.ceil(c)"
      ],
      "metadata": {
        "colab": {
          "base_uri": "https://localhost:8080/"
        },
        "id": "0nmWZnDcaHQR",
        "outputId": "91dbea52-d532-4dec-b756-bc353004be88"
      },
      "execution_count": 29,
      "outputs": [
        {
          "output_type": "execute_result",
          "data": {
            "text/plain": [
              "tensor([-1.,  3., -3.,  5.])"
            ]
          },
          "metadata": {},
          "execution_count": 29
        }
      ]
    },
    {
      "cell_type": "code",
      "source": [
        "# floor\n",
        "torch.floor(c)"
      ],
      "metadata": {
        "colab": {
          "base_uri": "https://localhost:8080/"
        },
        "id": "iEcjynVfaLDc",
        "outputId": "b8ee00cb-44a4-4d0e-cbef-bf212a8f7996"
      },
      "execution_count": 30,
      "outputs": [
        {
          "output_type": "execute_result",
          "data": {
            "text/plain": [
              "tensor([-2.,  2., -4.,  4.])"
            ]
          },
          "metadata": {},
          "execution_count": 30
        }
      ]
    },
    {
      "cell_type": "code",
      "source": [
        "# clamp\n",
        "torch.clamp(c, min=-1, max=2)"
      ],
      "metadata": {
        "colab": {
          "base_uri": "https://localhost:8080/"
        },
        "id": "sk43MmHMaSud",
        "outputId": "7800a7e0-9023-4821-911a-f79f8f98bd4c"
      },
      "execution_count": 31,
      "outputs": [
        {
          "output_type": "execute_result",
          "data": {
            "text/plain": [
              "tensor([-1.,  2., -1.,  2.])"
            ]
          },
          "metadata": {},
          "execution_count": 31
        }
      ]
    },
    {
      "cell_type": "markdown",
      "source": [
        "## 3. Reduction Operation"
      ],
      "metadata": {
        "id": "OyR9zsPZab7T"
      }
    },
    {
      "cell_type": "code",
      "source": [
        "d = torch.randint(size=(2,3), low=0, high=10, dtype=torch.float32)\n",
        "d"
      ],
      "metadata": {
        "colab": {
          "base_uri": "https://localhost:8080/"
        },
        "id": "GMeV3DzUaVLh",
        "outputId": "20e1fa11-f40b-41be-bac2-88d836e1890d"
      },
      "execution_count": 32,
      "outputs": [
        {
          "output_type": "execute_result",
          "data": {
            "text/plain": [
              "tensor([[4., 6., 0.],\n",
              "        [1., 9., 9.]])"
            ]
          },
          "metadata": {},
          "execution_count": 32
        }
      ]
    },
    {
      "cell_type": "code",
      "source": [
        "# sum\n",
        "torch.sum(d)\n",
        "\n",
        "# sum along columns\n",
        "torch.sum(d, dim=0)\n",
        "\n",
        "# sum along rows\n",
        "torch.sum(d, dim=1)"
      ],
      "metadata": {
        "colab": {
          "base_uri": "https://localhost:8080/"
        },
        "id": "WEJ03Wtnasxo",
        "outputId": "74e33449-cc4d-462e-ff26-67accbd12edc"
      },
      "execution_count": 33,
      "outputs": [
        {
          "output_type": "execute_result",
          "data": {
            "text/plain": [
              "tensor([10., 19.])"
            ]
          },
          "metadata": {},
          "execution_count": 33
        }
      ]
    },
    {
      "cell_type": "code",
      "source": [
        "# mean\n",
        "torch.mean(d)\n",
        "\n",
        "# mean along columns\n",
        "torch.mean(d, dim=0)\n",
        "\n",
        "# mean along rows\n",
        "torch.mean(d, dim=1)"
      ],
      "metadata": {
        "colab": {
          "base_uri": "https://localhost:8080/"
        },
        "id": "j1POrsGaa0vl",
        "outputId": "1fc762d3-4519-40eb-cc66-7df2adb95264"
      },
      "execution_count": 34,
      "outputs": [
        {
          "output_type": "execute_result",
          "data": {
            "text/plain": [
              "tensor([3.3333, 6.3333])"
            ]
          },
          "metadata": {},
          "execution_count": 34
        }
      ]
    },
    {
      "cell_type": "code",
      "source": [
        "# median\n",
        "torch.median(d)\n",
        "\n"
      ],
      "metadata": {
        "colab": {
          "base_uri": "https://localhost:8080/"
        },
        "id": "EjGwZAUBbMHt",
        "outputId": "84b96572-5be2-4dee-ebaa-531d13bb1a39"
      },
      "execution_count": 35,
      "outputs": [
        {
          "output_type": "execute_result",
          "data": {
            "text/plain": [
              "tensor(4.)"
            ]
          },
          "metadata": {},
          "execution_count": 35
        }
      ]
    },
    {
      "cell_type": "code",
      "source": [
        "# max and min\n",
        "print(torch.max(d))\n",
        "print(torch.min(d))"
      ],
      "metadata": {
        "colab": {
          "base_uri": "https://localhost:8080/"
        },
        "id": "pN2lUkexbbjp",
        "outputId": "b6321408-89b9-4034-a465-99f415c43f32"
      },
      "execution_count": 36,
      "outputs": [
        {
          "output_type": "stream",
          "name": "stdout",
          "text": [
            "tensor(9.)\n",
            "tensor(0.)\n"
          ]
        }
      ]
    },
    {
      "cell_type": "code",
      "source": [
        "# product\n",
        "torch.prod(d)\n",
        "\n"
      ],
      "metadata": {
        "colab": {
          "base_uri": "https://localhost:8080/"
        },
        "id": "TMd9XZz9bnDK",
        "outputId": "23809a51-ca82-45d2-c732-2889114c984e"
      },
      "execution_count": 37,
      "outputs": [
        {
          "output_type": "execute_result",
          "data": {
            "text/plain": [
              "tensor(0.)"
            ]
          },
          "metadata": {},
          "execution_count": 37
        }
      ]
    },
    {
      "cell_type": "code",
      "source": [
        "# standard deviaiton\n",
        "torch.std(d)"
      ],
      "metadata": {
        "colab": {
          "base_uri": "https://localhost:8080/"
        },
        "id": "ILbcAm5ub0r4",
        "outputId": "ec779738-83d4-4304-aee7-03551cc906ba"
      },
      "execution_count": 38,
      "outputs": [
        {
          "output_type": "execute_result",
          "data": {
            "text/plain": [
              "tensor(3.8687)"
            ]
          },
          "metadata": {},
          "execution_count": 38
        }
      ]
    },
    {
      "cell_type": "code",
      "source": [
        "# variance\n",
        "torch.var(d)"
      ],
      "metadata": {
        "colab": {
          "base_uri": "https://localhost:8080/"
        },
        "id": "ziISwKOTb4nb",
        "outputId": "01de4703-3df2-4371-a662-4e856a527e8e"
      },
      "execution_count": 39,
      "outputs": [
        {
          "output_type": "execute_result",
          "data": {
            "text/plain": [
              "tensor(14.9667)"
            ]
          },
          "metadata": {},
          "execution_count": 39
        }
      ]
    },
    {
      "cell_type": "code",
      "source": [
        "# argmax\n",
        "torch.argmax(d)"
      ],
      "metadata": {
        "colab": {
          "base_uri": "https://localhost:8080/"
        },
        "id": "i6LteG8rb_0R",
        "outputId": "b575d5a1-123f-45b7-ee7c-2956b5d8efb1"
      },
      "execution_count": 40,
      "outputs": [
        {
          "output_type": "execute_result",
          "data": {
            "text/plain": [
              "tensor(4)"
            ]
          },
          "metadata": {},
          "execution_count": 40
        }
      ]
    },
    {
      "cell_type": "code",
      "source": [
        "# argmin\n",
        "torch.argmin(d)"
      ],
      "metadata": {
        "colab": {
          "base_uri": "https://localhost:8080/"
        },
        "id": "rzKRBR-7cBuv",
        "outputId": "4b480627-d381-4a1e-90ea-9c74da2c0a47"
      },
      "execution_count": 41,
      "outputs": [
        {
          "output_type": "execute_result",
          "data": {
            "text/plain": [
              "tensor(2)"
            ]
          },
          "metadata": {},
          "execution_count": 41
        }
      ]
    },
    {
      "cell_type": "markdown",
      "source": [
        "## 4. Matrix Operations"
      ],
      "metadata": {
        "id": "voOBTW4mdPBM"
      }
    },
    {
      "cell_type": "code",
      "source": [
        "e = torch.randint(size=(2,3), low=0, high=10)\n",
        "f = torch.randint(size=(3,2), low=0, high=10)\n",
        "\n",
        "print(e)\n",
        "print(f)"
      ],
      "metadata": {
        "colab": {
          "base_uri": "https://localhost:8080/"
        },
        "id": "ToOKpucAcC5L",
        "outputId": "aaffe4af-61c1-4f8d-a402-770f352d96da"
      },
      "execution_count": 42,
      "outputs": [
        {
          "output_type": "stream",
          "name": "stdout",
          "text": [
            "tensor([[8, 0, 7],\n",
            "        [0, 0, 9]])\n",
            "tensor([[5, 7],\n",
            "        [3, 9],\n",
            "        [4, 0]])\n"
          ]
        }
      ]
    },
    {
      "cell_type": "code",
      "source": [
        "# matrix mulitplication\n",
        "torch.matmul(e,f)"
      ],
      "metadata": {
        "colab": {
          "base_uri": "https://localhost:8080/"
        },
        "id": "NpUtgftidcpQ",
        "outputId": "b5f686e4-e5d5-4c87-bce2-801561d6ee5a"
      },
      "execution_count": 43,
      "outputs": [
        {
          "output_type": "execute_result",
          "data": {
            "text/plain": [
              "tensor([[68, 56],\n",
              "        [36,  0]])"
            ]
          },
          "metadata": {},
          "execution_count": 43
        }
      ]
    },
    {
      "cell_type": "code",
      "source": [
        "# dot product\n",
        "vector1 = torch.tensor([1,2])\n",
        "vector2 = torch.tensor([3,4])\n",
        "\n",
        "torch.dot(vector1, vector2)"
      ],
      "metadata": {
        "colab": {
          "base_uri": "https://localhost:8080/"
        },
        "id": "dxnpsbkvdl9C",
        "outputId": "94e81af9-773a-4f42-c976-3d4cea73b981"
      },
      "execution_count": 44,
      "outputs": [
        {
          "output_type": "execute_result",
          "data": {
            "text/plain": [
              "tensor(11)"
            ]
          },
          "metadata": {},
          "execution_count": 44
        }
      ]
    },
    {
      "cell_type": "code",
      "source": [
        "# transpose\n",
        "torch.transpose(e, 0, 1)"
      ],
      "metadata": {
        "colab": {
          "base_uri": "https://localhost:8080/"
        },
        "id": "3OKUEn4Ad6tI",
        "outputId": "8e2145c8-3ee2-4301-e55c-1a2fde8f5fc0"
      },
      "execution_count": 45,
      "outputs": [
        {
          "output_type": "execute_result",
          "data": {
            "text/plain": [
              "tensor([[8, 0],\n",
              "        [0, 0],\n",
              "        [7, 9]])"
            ]
          },
          "metadata": {},
          "execution_count": 45
        }
      ]
    },
    {
      "cell_type": "code",
      "source": [
        "# determinant\n",
        "m = torch.randint(size=(3,3), low=0, high=10, dtype=torch.float32)\n",
        "print(m)\n",
        "torch.det(m)"
      ],
      "metadata": {
        "colab": {
          "base_uri": "https://localhost:8080/"
        },
        "id": "Qckzlhm9eOAm",
        "outputId": "8eccd776-8696-48cb-ae6c-0699d81be594"
      },
      "execution_count": 46,
      "outputs": [
        {
          "output_type": "stream",
          "name": "stdout",
          "text": [
            "tensor([[5., 7., 5.],\n",
            "        [9., 9., 7.],\n",
            "        [5., 9., 8.]])\n"
          ]
        },
        {
          "output_type": "execute_result",
          "data": {
            "text/plain": [
              "tensor(-34.0000)"
            ]
          },
          "metadata": {},
          "execution_count": 46
        }
      ]
    },
    {
      "cell_type": "code",
      "source": [
        "# inverse\n",
        "torch.inverse(m)"
      ],
      "metadata": {
        "colab": {
          "base_uri": "https://localhost:8080/"
        },
        "id": "vhQ4wwszedzE",
        "outputId": "372fc4cc-0450-474a-dfaf-f1b84ded8c1b"
      },
      "execution_count": 47,
      "outputs": [
        {
          "output_type": "execute_result",
          "data": {
            "text/plain": [
              "tensor([[-0.2647,  0.3235, -0.1176],\n",
              "        [ 1.0882, -0.4412, -0.2941],\n",
              "        [-1.0588,  0.2941,  0.5294]])"
            ]
          },
          "metadata": {},
          "execution_count": 47
        }
      ]
    },
    {
      "cell_type": "markdown",
      "source": [
        "## 5. Comparision Operations"
      ],
      "metadata": {
        "id": "1jKoccmzfFds"
      }
    },
    {
      "cell_type": "code",
      "source": [
        "i = torch.randint(size=(2,3), low=0, high=10)\n",
        "j = torch.randint(size=(2,3), low=0, high=10)\n",
        "\n",
        "print(i)\n",
        "print(j)"
      ],
      "metadata": {
        "colab": {
          "base_uri": "https://localhost:8080/"
        },
        "id": "ZwjVPxHQe2vv",
        "outputId": "8864dc7e-614d-4056-a0fe-b270759839c7"
      },
      "execution_count": 48,
      "outputs": [
        {
          "output_type": "stream",
          "name": "stdout",
          "text": [
            "tensor([[9, 7, 9],\n",
            "        [2, 6, 7]])\n",
            "tensor([[7, 8, 3],\n",
            "        [6, 1, 5]])\n"
          ]
        }
      ]
    },
    {
      "cell_type": "code",
      "source": [
        "# greater than\n",
        "i > j\n",
        "\n",
        "# less than\n",
        "i < j\n",
        "\n",
        "# equal to\n",
        "i == j\n",
        "\n",
        "# not equal to\n",
        "i != j\n",
        "\n",
        "# greater than or equal to\n",
        "i >= j\n",
        "\n",
        "# less than or equal to\n",
        "i <= j"
      ],
      "metadata": {
        "colab": {
          "base_uri": "https://localhost:8080/"
        },
        "id": "DswVNLeEfK7p",
        "outputId": "fb0165a8-01b3-40ff-f706-c6d52ae7602f"
      },
      "execution_count": 49,
      "outputs": [
        {
          "output_type": "execute_result",
          "data": {
            "text/plain": [
              "tensor([[False,  True, False],\n",
              "        [ True, False, False]])"
            ]
          },
          "metadata": {},
          "execution_count": 49
        }
      ]
    },
    {
      "cell_type": "markdown",
      "source": [
        "## 6. Special Functions"
      ],
      "metadata": {
        "id": "EP21eGbFfncc"
      }
    },
    {
      "cell_type": "code",
      "source": [
        "t = torch.randint(size=(2,3), low=0, high=10, dtype=torch.float32)\n",
        "t"
      ],
      "metadata": {
        "colab": {
          "base_uri": "https://localhost:8080/"
        },
        "id": "HvTJwa6FfPzN",
        "outputId": "1911201d-6bd2-421a-f333-90883ef82c22"
      },
      "execution_count": 50,
      "outputs": [
        {
          "output_type": "execute_result",
          "data": {
            "text/plain": [
              "tensor([[5., 0., 4.],\n",
              "        [3., 8., 8.]])"
            ]
          },
          "metadata": {},
          "execution_count": 50
        }
      ]
    },
    {
      "cell_type": "code",
      "source": [
        "# log\n",
        "torch.log(t)"
      ],
      "metadata": {
        "colab": {
          "base_uri": "https://localhost:8080/"
        },
        "id": "jm0-FYvrfsU6",
        "outputId": "9f328266-48b6-4dad-cef1-88e29d287bc0"
      },
      "execution_count": 51,
      "outputs": [
        {
          "output_type": "execute_result",
          "data": {
            "text/plain": [
              "tensor([[1.6094,   -inf, 1.3863],\n",
              "        [1.0986, 2.0794, 2.0794]])"
            ]
          },
          "metadata": {},
          "execution_count": 51
        }
      ]
    },
    {
      "cell_type": "code",
      "source": [
        "# exp\n",
        "torch.exp(t)"
      ],
      "metadata": {
        "colab": {
          "base_uri": "https://localhost:8080/"
        },
        "id": "_c4HTSOTf3IH",
        "outputId": "e39231c7-ba26-420a-dac5-ab76ab9f3f29"
      },
      "execution_count": 52,
      "outputs": [
        {
          "output_type": "execute_result",
          "data": {
            "text/plain": [
              "tensor([[1.4841e+02, 1.0000e+00, 5.4598e+01],\n",
              "        [2.0086e+01, 2.9810e+03, 2.9810e+03]])"
            ]
          },
          "metadata": {},
          "execution_count": 52
        }
      ]
    },
    {
      "cell_type": "code",
      "source": [
        "# sqrt\n",
        "torch.sqrt(t)"
      ],
      "metadata": {
        "colab": {
          "base_uri": "https://localhost:8080/"
        },
        "id": "eopKK-Exf5Av",
        "outputId": "2ddffde2-7dc7-4c14-8f6f-4391684cb805"
      },
      "execution_count": 53,
      "outputs": [
        {
          "output_type": "execute_result",
          "data": {
            "text/plain": [
              "tensor([[2.2361, 0.0000, 2.0000],\n",
              "        [1.7321, 2.8284, 2.8284]])"
            ]
          },
          "metadata": {},
          "execution_count": 53
        }
      ]
    },
    {
      "cell_type": "code",
      "source": [
        "# sigmoid\n",
        "torch.sigmoid(t)"
      ],
      "metadata": {
        "colab": {
          "base_uri": "https://localhost:8080/"
        },
        "id": "BVsw44aVf_ML",
        "outputId": "12a350f2-8509-47ce-dcf5-fd0bcebfb5aa"
      },
      "execution_count": 54,
      "outputs": [
        {
          "output_type": "execute_result",
          "data": {
            "text/plain": [
              "tensor([[0.9933, 0.5000, 0.9820],\n",
              "        [0.9526, 0.9997, 0.9997]])"
            ]
          },
          "metadata": {},
          "execution_count": 54
        }
      ]
    },
    {
      "cell_type": "code",
      "source": [
        "# softmax\n",
        "torch.softmax(t, dim=0)"
      ],
      "metadata": {
        "colab": {
          "base_uri": "https://localhost:8080/"
        },
        "id": "xOdH0ys7gCC0",
        "outputId": "1acadcf0-72a6-407e-8daa-98d89520a87f"
      },
      "execution_count": 55,
      "outputs": [
        {
          "output_type": "execute_result",
          "data": {
            "text/plain": [
              "tensor([[8.8080e-01, 3.3535e-04, 1.7986e-02],\n",
              "        [1.1920e-01, 9.9966e-01, 9.8201e-01]])"
            ]
          },
          "metadata": {},
          "execution_count": 55
        }
      ]
    },
    {
      "cell_type": "code",
      "source": [
        "# relu\n",
        "torch.relu(t)"
      ],
      "metadata": {
        "colab": {
          "base_uri": "https://localhost:8080/"
        },
        "id": "XrBZKD0xgZDb",
        "outputId": "a439fa11-ee8f-44d1-8456-58daf20a5359"
      },
      "execution_count": 56,
      "outputs": [
        {
          "output_type": "execute_result",
          "data": {
            "text/plain": [
              "tensor([[5., 0., 4.],\n",
              "        [3., 8., 8.]])"
            ]
          },
          "metadata": {},
          "execution_count": 56
        }
      ]
    },
    {
      "cell_type": "markdown",
      "source": [
        "# Inplace Operations"
      ],
      "metadata": {
        "id": "DuV1N4SzhA62"
      }
    },
    {
      "cell_type": "code",
      "source": [
        "m = torch.rand(2,3)\n",
        "n = torch.rand(2,3)\n",
        "\n",
        "print(m)\n",
        "print(n)"
      ],
      "metadata": {
        "colab": {
          "base_uri": "https://localhost:8080/"
        },
        "id": "B5VCyAGBgdqa",
        "outputId": "84de4674-667e-41f5-d30c-32184f9cb71b"
      },
      "execution_count": 57,
      "outputs": [
        {
          "output_type": "stream",
          "name": "stdout",
          "text": [
            "tensor([[0.6179, 0.3379, 0.2170],\n",
            "        [0.9454, 0.7116, 0.1157]])\n",
            "tensor([[0.6574, 0.3451, 0.0453],\n",
            "        [0.9798, 0.5548, 0.6868]])\n"
          ]
        }
      ]
    },
    {
      "cell_type": "code",
      "source": [
        "m.add_(n)"
      ],
      "metadata": {
        "colab": {
          "base_uri": "https://localhost:8080/"
        },
        "id": "vsxRlYJShIxs",
        "outputId": "1ffe22ab-c972-46ce-f411-9e1e37acbd80"
      },
      "execution_count": 58,
      "outputs": [
        {
          "output_type": "execute_result",
          "data": {
            "text/plain": [
              "tensor([[1.2752, 0.6830, 0.2624],\n",
              "        [1.9251, 1.2663, 0.8025]])"
            ]
          },
          "metadata": {},
          "execution_count": 58
        }
      ]
    },
    {
      "cell_type": "code",
      "source": [
        "m"
      ],
      "metadata": {
        "colab": {
          "base_uri": "https://localhost:8080/"
        },
        "id": "LhYGOjMHhM52",
        "outputId": "6ca5d5ad-a2da-43e8-cfae-cf42034881ff"
      },
      "execution_count": 59,
      "outputs": [
        {
          "output_type": "execute_result",
          "data": {
            "text/plain": [
              "tensor([[1.2752, 0.6830, 0.2624],\n",
              "        [1.9251, 1.2663, 0.8025]])"
            ]
          },
          "metadata": {},
          "execution_count": 59
        }
      ]
    },
    {
      "cell_type": "code",
      "source": [
        "n"
      ],
      "metadata": {
        "colab": {
          "base_uri": "https://localhost:8080/"
        },
        "id": "MiwtCp0-hZEC",
        "outputId": "c9689ef8-7826-4dae-ac25-526712bffa91"
      },
      "execution_count": 60,
      "outputs": [
        {
          "output_type": "execute_result",
          "data": {
            "text/plain": [
              "tensor([[0.6574, 0.3451, 0.0453],\n",
              "        [0.9798, 0.5548, 0.6868]])"
            ]
          },
          "metadata": {},
          "execution_count": 60
        }
      ]
    },
    {
      "cell_type": "markdown",
      "source": [
        "# Copying a Tensor"
      ],
      "metadata": {
        "id": "UgRAr97JhnRa"
      }
    },
    {
      "cell_type": "code",
      "source": [
        "a = torch.rand(2,3)\n",
        "a"
      ],
      "metadata": {
        "colab": {
          "base_uri": "https://localhost:8080/"
        },
        "id": "GM6WwXfghcmD",
        "outputId": "d94c76bb-2af1-4b0b-dc6c-884cfda3a5a7"
      },
      "execution_count": 61,
      "outputs": [
        {
          "output_type": "execute_result",
          "data": {
            "text/plain": [
              "tensor([[0.4920, 0.0748, 0.9605],\n",
              "        [0.3271, 0.0103, 0.9516]])"
            ]
          },
          "metadata": {},
          "execution_count": 61
        }
      ]
    },
    {
      "cell_type": "code",
      "source": [
        "b = a"
      ],
      "metadata": {
        "id": "t4e1onjQhs9L"
      },
      "execution_count": 62,
      "outputs": []
    },
    {
      "cell_type": "code",
      "source": [
        "b"
      ],
      "metadata": {
        "colab": {
          "base_uri": "https://localhost:8080/"
        },
        "id": "QiEo1agGjp_A",
        "outputId": "e03a42c3-7564-4bad-d70a-ff0e679bd4c6"
      },
      "execution_count": 63,
      "outputs": [
        {
          "output_type": "execute_result",
          "data": {
            "text/plain": [
              "tensor([[0.4920, 0.0748, 0.9605],\n",
              "        [0.3271, 0.0103, 0.9516]])"
            ]
          },
          "metadata": {},
          "execution_count": 63
        }
      ]
    },
    {
      "cell_type": "code",
      "source": [
        "a[0][0] = 0"
      ],
      "metadata": {
        "id": "ixvtSK9zjrIy"
      },
      "execution_count": 64,
      "outputs": []
    },
    {
      "cell_type": "code",
      "source": [
        "a"
      ],
      "metadata": {
        "colab": {
          "base_uri": "https://localhost:8080/"
        },
        "id": "3kPi4Vsfjuya",
        "outputId": "7d81a83f-0cfa-4980-801c-482290f5ea0b"
      },
      "execution_count": 65,
      "outputs": [
        {
          "output_type": "execute_result",
          "data": {
            "text/plain": [
              "tensor([[0.0000, 0.0748, 0.9605],\n",
              "        [0.3271, 0.0103, 0.9516]])"
            ]
          },
          "metadata": {},
          "execution_count": 65
        }
      ]
    },
    {
      "cell_type": "code",
      "source": [
        "b"
      ],
      "metadata": {
        "colab": {
          "base_uri": "https://localhost:8080/"
        },
        "id": "rofLZD9HjwSW",
        "outputId": "5c6213ef-71fa-4280-989b-408c6f4e7151"
      },
      "execution_count": 66,
      "outputs": [
        {
          "output_type": "execute_result",
          "data": {
            "text/plain": [
              "tensor([[0.0000, 0.0748, 0.9605],\n",
              "        [0.3271, 0.0103, 0.9516]])"
            ]
          },
          "metadata": {},
          "execution_count": 66
        }
      ]
    },
    {
      "cell_type": "code",
      "source": [
        "id(a), id(b)"
      ],
      "metadata": {
        "colab": {
          "base_uri": "https://localhost:8080/"
        },
        "id": "FGmLIP5mjwik",
        "outputId": "3683fe80-28d9-4e94-82fc-79914f36b56b"
      },
      "execution_count": 67,
      "outputs": [
        {
          "output_type": "execute_result",
          "data": {
            "text/plain": [
              "(135532220534432, 135532220534432)"
            ]
          },
          "metadata": {},
          "execution_count": 67
        }
      ]
    },
    {
      "cell_type": "code",
      "source": [
        "b = a.clone()"
      ],
      "metadata": {
        "id": "t90yrex1j4fI"
      },
      "execution_count": 68,
      "outputs": []
    },
    {
      "cell_type": "code",
      "source": [
        "a[0][0] = 2"
      ],
      "metadata": {
        "id": "ViCF11vRj-HX"
      },
      "execution_count": 69,
      "outputs": []
    },
    {
      "cell_type": "code",
      "source": [
        "a"
      ],
      "metadata": {
        "colab": {
          "base_uri": "https://localhost:8080/"
        },
        "id": "FYkymdz4kAeU",
        "outputId": "5dccbe34-c96c-474f-8802-70dd75ae0051"
      },
      "execution_count": 70,
      "outputs": [
        {
          "output_type": "execute_result",
          "data": {
            "text/plain": [
              "tensor([[2.0000, 0.0748, 0.9605],\n",
              "        [0.3271, 0.0103, 0.9516]])"
            ]
          },
          "metadata": {},
          "execution_count": 70
        }
      ]
    },
    {
      "cell_type": "code",
      "source": [
        "b"
      ],
      "metadata": {
        "colab": {
          "base_uri": "https://localhost:8080/"
        },
        "id": "lY93Kc6ikA-d",
        "outputId": "e627e7b9-b424-43e2-cc90-f606914f81b4"
      },
      "execution_count": 71,
      "outputs": [
        {
          "output_type": "execute_result",
          "data": {
            "text/plain": [
              "tensor([[0.0000, 0.0748, 0.9605],\n",
              "        [0.3271, 0.0103, 0.9516]])"
            ]
          },
          "metadata": {},
          "execution_count": 71
        }
      ]
    },
    {
      "cell_type": "markdown",
      "source": [
        "# Tensor Operations on GPU"
      ],
      "metadata": {
        "id": "TBTG16CnErue"
      }
    },
    {
      "cell_type": "code",
      "source": [
        "torch.cuda.is_available()"
      ],
      "metadata": {
        "colab": {
          "base_uri": "https://localhost:8080/"
        },
        "id": "odlLrprHkBNi",
        "outputId": "960dfa2b-ae27-48bb-e86d-1bca8a37ff41"
      },
      "execution_count": 72,
      "outputs": [
        {
          "output_type": "execute_result",
          "data": {
            "text/plain": [
              "True"
            ]
          },
          "metadata": {},
          "execution_count": 72
        }
      ]
    },
    {
      "cell_type": "code",
      "source": [
        "device = torch.device('cuda')"
      ],
      "metadata": {
        "id": "JK3NwQgTE3uL"
      },
      "execution_count": 73,
      "outputs": []
    },
    {
      "cell_type": "code",
      "source": [
        "# create a tensor on GPU\n",
        "torch.rand((2,3), device=device)"
      ],
      "metadata": {
        "colab": {
          "base_uri": "https://localhost:8080/"
        },
        "id": "LgEbyEl9FAzd",
        "outputId": "7d886e68-1c67-4b67-c9fd-29da55d6b5b5"
      },
      "execution_count": 74,
      "outputs": [
        {
          "output_type": "execute_result",
          "data": {
            "text/plain": [
              "tensor([[0.3563, 0.0303, 0.7088],\n",
              "        [0.2009, 0.0224, 0.9896]], device='cuda:0')"
            ]
          },
          "metadata": {},
          "execution_count": 74
        }
      ]
    },
    {
      "cell_type": "code",
      "source": [
        "# moving existing tensor to GPU\n",
        "a = torch.rand((2,3))\n",
        "b = a.to(device)\n",
        "b"
      ],
      "metadata": {
        "colab": {
          "base_uri": "https://localhost:8080/"
        },
        "id": "ZcG9rFUkFLDS",
        "outputId": "87960ffa-77eb-4920-c883-6849f0a1eb29"
      },
      "execution_count": 75,
      "outputs": [
        {
          "output_type": "execute_result",
          "data": {
            "text/plain": [
              "tensor([[0.2855, 0.2324, 0.9141],\n",
              "        [0.7668, 0.1659, 0.4393]], device='cuda:0')"
            ]
          },
          "metadata": {},
          "execution_count": 75
        }
      ]
    },
    {
      "cell_type": "code",
      "source": [
        "b + 5"
      ],
      "metadata": {
        "colab": {
          "base_uri": "https://localhost:8080/"
        },
        "id": "oyrSSBibFdBP",
        "outputId": "5619ae98-a2b1-485f-9d40-949df10d2d04"
      },
      "execution_count": 76,
      "outputs": [
        {
          "output_type": "execute_result",
          "data": {
            "text/plain": [
              "tensor([[5.2855, 5.2324, 5.9141],\n",
              "        [5.7668, 5.1659, 5.4393]], device='cuda:0')"
            ]
          },
          "metadata": {},
          "execution_count": 76
        }
      ]
    },
    {
      "cell_type": "code",
      "source": [
        "import time\n",
        "\n",
        "# define the size of matrices\n",
        "size = 10000\n",
        "\n",
        "# create random matrices on CPU\n",
        "matrix_cpu1 = torch.rand(size, size)\n",
        "matrix_cpu2 = torch.rand(size, size)\n",
        "\n",
        "# measure the time on CPU\n",
        "start_time = time.time()\n",
        "result_cpu = torch.matmul(matrix_cpu1, matrix_cpu2)\n",
        "cpu_time = time.time() - start_time\n",
        "print(f\"CPU time: {cpu_time} seconds\")\n",
        "\n",
        "# move matrices to GPU\n",
        "matrix_gpu1 = matrix_cpu1.to(device)\n",
        "matrix_gpu2 = matrix_cpu2.to(device)\n",
        "\n",
        "# measure the time on GPU\n",
        "start_time = time.time()\n",
        "result_gpu = torch.matmul(matrix_gpu1, matrix_gpu2)\n",
        "torch.cuda.synchronize()\n",
        "gpu_time = time.time() - start_time\n",
        "print(f\"GPU time: {gpu_time} seconds\")\n",
        "\n",
        "# compare the results\n",
        "print(\"\\nSpeedup (CPU time / GPU time):\", cpu_time/gpu_time)"
      ],
      "metadata": {
        "colab": {
          "base_uri": "https://localhost:8080/"
        },
        "id": "be6o-4PAFmbR",
        "outputId": "1d8e9fb3-3f12-4a50-f4c4-f3cac89ab1e3"
      },
      "execution_count": 77,
      "outputs": [
        {
          "output_type": "stream",
          "name": "stdout",
          "text": [
            "CPU time: 25.39175534248352 seconds\n",
            "GPU time: 0.7004787921905518 seconds\n",
            "\n",
            "Speedup (CPU time / GPU time): 36.249142194695\n"
          ]
        }
      ]
    },
    {
      "cell_type": "markdown",
      "source": [
        "# Reshaping Tensors"
      ],
      "metadata": {
        "id": "HvaMgl_EKmIA"
      }
    },
    {
      "cell_type": "code",
      "source": [
        "a = torch.ones(4,4)\n",
        "a"
      ],
      "metadata": {
        "colab": {
          "base_uri": "https://localhost:8080/"
        },
        "id": "fBwsgoPHHoDQ",
        "outputId": "cec815eb-5355-4f0d-9d96-0ad7655efbb2"
      },
      "execution_count": 78,
      "outputs": [
        {
          "output_type": "execute_result",
          "data": {
            "text/plain": [
              "tensor([[1., 1., 1., 1.],\n",
              "        [1., 1., 1., 1.],\n",
              "        [1., 1., 1., 1.],\n",
              "        [1., 1., 1., 1.]])"
            ]
          },
          "metadata": {},
          "execution_count": 78
        }
      ]
    },
    {
      "cell_type": "code",
      "source": [
        "# reshape\n",
        "a.reshape(2,2,2,2)"
      ],
      "metadata": {
        "colab": {
          "base_uri": "https://localhost:8080/"
        },
        "id": "YDBOHwFOKzKD",
        "outputId": "88b52074-e6d5-4433-d5d5-975b5fc2eef8"
      },
      "execution_count": 79,
      "outputs": [
        {
          "output_type": "execute_result",
          "data": {
            "text/plain": [
              "tensor([[[[1., 1.],\n",
              "          [1., 1.]],\n",
              "\n",
              "         [[1., 1.],\n",
              "          [1., 1.]]],\n",
              "\n",
              "\n",
              "        [[[1., 1.],\n",
              "          [1., 1.]],\n",
              "\n",
              "         [[1., 1.],\n",
              "          [1., 1.]]]])"
            ]
          },
          "metadata": {},
          "execution_count": 79
        }
      ]
    },
    {
      "cell_type": "code",
      "source": [
        "  # flatten\n",
        "  a.flatten()"
      ],
      "metadata": {
        "colab": {
          "base_uri": "https://localhost:8080/"
        },
        "id": "g3Hz4fptK2bG",
        "outputId": "42460fd3-f8a6-4fc8-ba90-3af9f77aaf9f"
      },
      "execution_count": 80,
      "outputs": [
        {
          "output_type": "execute_result",
          "data": {
            "text/plain": [
              "tensor([1., 1., 1., 1., 1., 1., 1., 1., 1., 1., 1., 1., 1., 1., 1., 1.])"
            ]
          },
          "metadata": {},
          "execution_count": 80
        }
      ]
    },
    {
      "cell_type": "code",
      "source": [
        "# permute\n",
        "b = torch.rand(2,3,4)\n",
        "b"
      ],
      "metadata": {
        "colab": {
          "base_uri": "https://localhost:8080/"
        },
        "id": "U6afO8KFLAUT",
        "outputId": "9a7abdae-2c1a-4b0a-fa36-b97a5b756a1c"
      },
      "execution_count": 81,
      "outputs": [
        {
          "output_type": "execute_result",
          "data": {
            "text/plain": [
              "tensor([[[0.3932, 0.7483, 0.7985, 0.4626],\n",
              "         [0.9414, 0.5752, 0.8881, 0.7989],\n",
              "         [0.9514, 0.0141, 0.8903, 0.1649]],\n",
              "\n",
              "        [[0.3162, 0.1331, 0.6763, 0.4254],\n",
              "         [0.2375, 0.5430, 0.1174, 0.6532],\n",
              "         [0.5115, 0.3094, 0.7907, 0.7351]]])"
            ]
          },
          "metadata": {},
          "execution_count": 81
        }
      ]
    },
    {
      "cell_type": "code",
      "source": [
        "b.permute(2,0,1)"
      ],
      "metadata": {
        "colab": {
          "base_uri": "https://localhost:8080/"
        },
        "id": "9hD-QwNjLPR7",
        "outputId": "36ac3cb9-1f43-41d6-bdfe-403da36d239f"
      },
      "execution_count": 82,
      "outputs": [
        {
          "output_type": "execute_result",
          "data": {
            "text/plain": [
              "tensor([[[0.3932, 0.9414, 0.9514],\n",
              "         [0.3162, 0.2375, 0.5115]],\n",
              "\n",
              "        [[0.7483, 0.5752, 0.0141],\n",
              "         [0.1331, 0.5430, 0.3094]],\n",
              "\n",
              "        [[0.7985, 0.8881, 0.8903],\n",
              "         [0.6763, 0.1174, 0.7907]],\n",
              "\n",
              "        [[0.4626, 0.7989, 0.1649],\n",
              "         [0.4254, 0.6532, 0.7351]]])"
            ]
          },
          "metadata": {},
          "execution_count": 82
        }
      ]
    },
    {
      "cell_type": "code",
      "source": [
        "# unsqueeze\n",
        "c = torch.rand(226,226,3)\n",
        "c.unsqueeze(0).shape"
      ],
      "metadata": {
        "colab": {
          "base_uri": "https://localhost:8080/"
        },
        "id": "02wO-1rYLSwJ",
        "outputId": "64361ace-f473-4d24-b53d-34a2dc1f73b1"
      },
      "execution_count": 88,
      "outputs": [
        {
          "output_type": "execute_result",
          "data": {
            "text/plain": [
              "torch.Size([1, 226, 226, 3])"
            ]
          },
          "metadata": {},
          "execution_count": 88
        }
      ]
    },
    {
      "cell_type": "code",
      "source": [
        "# squeeze\n",
        "d = torch.rand(1, 20)\n",
        "d.squeeze(0).shape"
      ],
      "metadata": {
        "colab": {
          "base_uri": "https://localhost:8080/"
        },
        "id": "JGQQMdphLcou",
        "outputId": "7cc47ade-0f53-4c61-ae02-f7401e013dc6"
      },
      "execution_count": 90,
      "outputs": [
        {
          "output_type": "execute_result",
          "data": {
            "text/plain": [
              "torch.Size([20])"
            ]
          },
          "metadata": {},
          "execution_count": 90
        }
      ]
    },
    {
      "cell_type": "markdown",
      "source": [
        "# NumPy & PyTorch"
      ],
      "metadata": {
        "id": "a_xPLLYRMQJ3"
      }
    },
    {
      "cell_type": "code",
      "source": [
        "import numpy as np"
      ],
      "metadata": {
        "id": "cVboFHRvMBcF"
      },
      "execution_count": 91,
      "outputs": []
    },
    {
      "cell_type": "code",
      "source": [
        "a = torch.tensor([1,2,3])\n",
        "a"
      ],
      "metadata": {
        "colab": {
          "base_uri": "https://localhost:8080/"
        },
        "id": "i2Tv6-29MY5h",
        "outputId": "523bab89-027b-48fb-ef11-64cf8161abbe"
      },
      "execution_count": 92,
      "outputs": [
        {
          "output_type": "execute_result",
          "data": {
            "text/plain": [
              "tensor([1, 2, 3])"
            ]
          },
          "metadata": {},
          "execution_count": 92
        }
      ]
    },
    {
      "cell_type": "code",
      "source": [
        "b = a.numpy()\n",
        "b"
      ],
      "metadata": {
        "colab": {
          "base_uri": "https://localhost:8080/"
        },
        "id": "hVvpjCwSMdpJ",
        "outputId": "21858273-90b3-45ef-8915-ee0aece15eeb"
      },
      "execution_count": 93,
      "outputs": [
        {
          "output_type": "execute_result",
          "data": {
            "text/plain": [
              "array([1, 2, 3])"
            ]
          },
          "metadata": {},
          "execution_count": 93
        }
      ]
    },
    {
      "cell_type": "code",
      "source": [
        "type(b)"
      ],
      "metadata": {
        "colab": {
          "base_uri": "https://localhost:8080/"
        },
        "id": "n1B3b3ERMiLw",
        "outputId": "9dcc0edb-b112-4749-8746-03a8a1516ab5"
      },
      "execution_count": 94,
      "outputs": [
        {
          "output_type": "execute_result",
          "data": {
            "text/plain": [
              "numpy.ndarray"
            ]
          },
          "metadata": {},
          "execution_count": 94
        }
      ]
    },
    {
      "cell_type": "code",
      "source": [
        "c = np.array([1,2,3])\n",
        "c"
      ],
      "metadata": {
        "colab": {
          "base_uri": "https://localhost:8080/"
        },
        "id": "NoVLr57AMkJo",
        "outputId": "2a6112af-feeb-40b3-9ffd-66dc90034382"
      },
      "execution_count": 95,
      "outputs": [
        {
          "output_type": "execute_result",
          "data": {
            "text/plain": [
              "array([1, 2, 3])"
            ]
          },
          "metadata": {},
          "execution_count": 95
        }
      ]
    },
    {
      "cell_type": "code",
      "source": [
        "torch.from_numpy(c)"
      ],
      "metadata": {
        "colab": {
          "base_uri": "https://localhost:8080/"
        },
        "id": "xP_HdlTcMnFL",
        "outputId": "1dd281be-2e7f-4bd2-d46a-4658ab48055f"
      },
      "execution_count": 96,
      "outputs": [
        {
          "output_type": "execute_result",
          "data": {
            "text/plain": [
              "tensor([1, 2, 3])"
            ]
          },
          "metadata": {},
          "execution_count": 96
        }
      ]
    },
    {
      "cell_type": "code",
      "source": [],
      "metadata": {
        "id": "X3YEtXZHMsXP"
      },
      "execution_count": null,
      "outputs": []
    }
  ]
}